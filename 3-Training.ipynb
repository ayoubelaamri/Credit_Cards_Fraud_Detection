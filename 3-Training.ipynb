{
 "cells": [
  {
   "cell_type": "code",
   "execution_count": 1,
   "id": "356ba62b-0a3c-4e07-a256-3bd09c3f4c43",
   "metadata": {},
   "outputs": [],
   "source": [
    "import pandas as pd\n",
    "import numpy as np\n",
    "import matplotlib.pyplot as plt\n",
    "from sklearn.ensemble import RandomForestClassifier\n",
    "from sklearn.metrics import accuracy_score, f1_score, confusion_matrix\n",
    "from sklearn.model_selection import train_test_split\n",
    "from joblib import dump, load\n",
    "\n",
    "import warnings\n",
    "warnings.filterwarnings('ignore')\n",
    "\n",
    "from Utils import PlotUtils"
   ]
  },
  {
   "cell_type": "code",
   "execution_count": 2,
   "id": "12c18b1b-425f-40fe-b763-9a9c381611e5",
   "metadata": {},
   "outputs": [],
   "source": [
    "df = pd.read_csv('./Dataset/processed_creditcard.csv')\n",
    "df.drop('Time', axis=1, inplace=True)\n",
    "features = df.drop('Class', axis=1).values\n",
    "y = df['Class'].values\n",
    "\n",
    "x_train, x_test, y_train, y_test = train_test_split(\n",
    "    features,\n",
    "    y,\n",
    "    test_size=0.2,\n",
    "    random_state=0\n",
    ")"
   ]
  },
  {
   "cell_type": "code",
   "execution_count": 3,
   "id": "fcb1baf3-1319-4874-9549-756d046e3b60",
   "metadata": {},
   "outputs": [],
   "source": [
    "model = RandomForestClassifier(\n",
    "    n_estimators = 100,\n",
    "    criterion = \"entropy\",\n",
    "    max_depth = None,\n",
    "    min_samples_split = 2,\n",
    "    min_samples_leaf = 1,\n",
    "    min_weight_fraction_leaf = 0.0,\n",
    "    max_features = \"auto\",\n",
    "    max_leaf_nodes = None,\n",
    "    min_impurity_decrease = 0.0,\n",
    "    bootstrap = True,\n",
    "    oob_score = False,\n",
    "    n_jobs = 4,\n",
    "    random_state = None,\n",
    "    verbose = 0,\n",
    "    warm_start = False,\n",
    "    class_weight = \"balanced_subsample\",\n",
    "    ccp_alpha = 0.0,\n",
    "    max_samples = None\n",
    ")"
   ]
  },
  {
   "cell_type": "code",
   "execution_count": 4,
   "id": "360098bc-139d-42af-9630-48e7dfd6c9c3",
   "metadata": {},
   "outputs": [
    {
     "data": {
      "text/plain": [
       "['./Model/model.joblib']"
      ]
     },
     "execution_count": 4,
     "metadata": {},
     "output_type": "execute_result"
    }
   ],
   "source": [
    "model.fit(\n",
    "    x_train,\n",
    "    y_train\n",
    ")\n",
    "\n",
    "# Serialization\n",
    "dump(model, './Model/model.joblib')"
   ]
  },
  {
   "cell_type": "code",
   "execution_count": 5,
   "id": "6708f237-1662-43cb-a67b-4422cb20484c",
   "metadata": {},
   "outputs": [
    {
     "name": "stdout",
     "output_type": "stream",
     "text": [
      "Accuracy : 0.968421052631579\n",
      "F1 Score : 0.963855421686747\n"
     ]
    }
   ],
   "source": [
    "predictions = model.predict(x_test)\n",
    "acc = accuracy_score(y_test, predictions)\n",
    "f1 = f1_score(y_test, predictions)\n",
    "\n",
    "print('Accuracy : ' + str(acc))\n",
    "print('F1 Score : ' + str(f1))"
   ]
  },
  {
   "cell_type": "code",
   "execution_count": 6,
   "id": "439b753d-219d-46b0-b10f-46e321a58346",
   "metadata": {},
   "outputs": [
    {
     "data": {
      "image/png": "[encoded data removed]",
      "text/plain": [
       "<Figure size 432x432 with 2 Axes>"
      ]
     },
     "metadata": {},
     "output_type": "display_data"
    }
   ],
   "source": [
    "predictions = model.predict(x_test)\n",
    "cm = confusion_matrix(y_test, predictions, labels=[0, 1])\n",
    "plt.rcParams['figure.figsize'] = (6, 6)\n",
    "\n",
    "PlotUtils.plot_confusion_matrix(\n",
    "    cm,\n",
    "    classes=['Clear(0)', 'Fraudulent(1)'],\n",
    "    normalize=False,\n",
    "    title='RFC'\n",
    ")"
   ]
  }
 ],
 "metadata": {
  "kernelspec": {
   "display_name": "Credit_Card_Fraud_Detection-1uUyXd52",
   "language": "python",
   "name": "credit_card_fraud_detection-1uuyxd52"
  },
  "language_info": {
   "codemirror_mode": {
    "name": "ipython",
    "version": 3
   },
   "file_extension": ".py",
   "mimetype": "text/x-python",
   "name": "python",
   "nbconvert_exporter": "python",
   "pygments_lexer": "ipython3",
   "version": "3.7.9"
  }
 },
 "nbformat": 4,
 "nbformat_minor": 5
}
