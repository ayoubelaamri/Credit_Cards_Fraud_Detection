{
 "cells": [
  {
   "cell_type": "code",
   "execution_count": 1,
   "id": "5b2ffc38-7b61-492a-889c-fbfe49edab0e",
   "metadata": {},
   "outputs": [],
   "source": [
    "import joblib\n",
    "model = joblib.load('./Model/model_without_balancing.joblib')"
   ]
  },
  {
   "cell_type": "code",
   "execution_count": 16,
   "id": "b7326dad-0c24-4a51-96ef-086d5a86bcd7",
   "metadata": {},
   "outputs": [
    {
     "name": "stdout",
     "output_type": "stream",
     "text": [
      "=> Clear Transaction\n"
     ]
    }
   ],
   "source": [
    "# clear example\n",
    "# EXAMPLE_1 = [-7.334,  4.960, -8.451,  8.174, -7.237, -2.382, -11.508,  4.635,-6.557, -11.519,  6.455, -13.380, 0.545, -13.026, -0.453, -13.251,-22.883, -9.287,  4.038,  0.723, 2.153,  0.033, -0.014,  0.625,-0.053,  0.164,  1.411,  0.315, 11.380]\n",
    "# EXAMPLE_1 = [-0.894286082,0.286157196,-0.113192213,-0.27152613,2.66959866,3.721818061,0.370145128,0.851084443,\t-0.392047587,\t-0.410430433,\t-0.705116587,\t-0.110452262,\t-0.286253632,\t0.07435536,\t-0.32878305,\t-0.210077268,\t-0.499767969,\t0.118764861,\t0.570328167,\t0.052735669,\t-0.0734251,\t-0.268091632,\t-0.20423267,\t1.011591802,\t0.37320468,\t-0.384157308,\t0.011747356,\t0.14240433,\t93.2]\n",
    "EXAMPLE_1 = [0.940102666,-0.473487735,0.850228095,-0.547714834,0.270531683,-0.162683167,0.74758606,0.335365567,0.482391116,0.757466232,-0.618091035,0.848482467,0.537339334,0.6581903,0.480742067,0.772061863,0.586174713,0.166055565,-0.040520152,-0.430875473,-0.090843884,-0.003110314,0.566083357,0.476272963,0.445650102,-0.658781302,0.411350781,0.040372863,93.2]\n",
    "\n",
    "feature_2 = -7.530\n",
    "feature_4 = -5.320\n",
    "feature_11 = -1.430\n",
    "\n",
    "feature_10 = -1.530\n",
    "feature_12 = 0.320\n",
    "feature_14 = 2.430\n",
    "\n",
    "amount = 1000\n",
    "\n",
    "EXAMPLE_1[2] = feature_2\n",
    "EXAMPLE_1[4] = feature_4\n",
    "EXAMPLE_1[11] = feature_11\n",
    "EXAMPLE_1[10] = feature_10\n",
    "EXAMPLE_1[12] = feature_12\n",
    "EXAMPLE_1[14] = feature_14\n",
    "EXAMPLE_1[28] = amount\n",
    "\n",
    "prediction = model.predict([EXAMPLE_1])\n",
    "if prediction[0] == 1:\n",
    "    print('=> Fraud Transaction')\n",
    "else:\n",
    "    print('=> Clear Transaction')"
   ]
  },
  {
   "cell_type": "code",
   "execution_count": 15,
   "id": "162ced6b-0b3f-4e49-a887-996a78d9ea1e",
   "metadata": {},
   "outputs": [
    {
     "name": "stdout",
     "output_type": "stream",
     "text": [
      "=> Fraud Transaction\n"
     ]
    }
   ],
   "source": [
    "# Fraud example\n",
    "EXAMPLE_2 = [-7.334,  4.960, -8.451,  8.174, -7.237, -2.382, -11.508,  4.635,-6.557, -11.519,  6.455, -13.380, 0.545, -13.026, -0.453, -13.251,-22.883, -9.287,  4.038,  0.723, 2.153,  0.033, -0.014,  0.625,-0.053,  0.164,  1.411,  0.315, 11.380]\n",
    "# EXAMPLE_2 = [-2.312226542,1.951992011,-1.609850732,3.997905588,-0.522187865,-1.426545319,-2.537387306,1.391657248,-2.770089277,-2.772272145,3.202033207,-2.899907388,-0.595221881,-4.289253782,0.38972412,-1.14074718,-2.830055675,-0.016822468,0.416955705,0.126910559,0.517232371,-0.035049369,-0.465211076,0.320198199,0.044519167,0.177839798,0.261145003,-0.143275875,0]\n",
    "# EXAMPLE_2 = [-3.043540624,-3.157307121,1.08846278,2.288643618,1.35980513,-1.064822523,0.325574266,-0.067793653,-0.270952836,-0.838586565,-0.414575448,-0.50314086,0.676501545,-1.692028933,2.000634839,0.666779696,0.599717414,1.725321007,0.28334483,2.102338793,0.661695925,0.435477209,1.375965743,-0.293803153,0.279798032,-0.145361715,-0.252773123,0.035764225,529]\n",
    "\n",
    "feature_2 = -1.530\n",
    "feature_4 = 3.320\n",
    "feature_11 = -4.430\n",
    "\n",
    "feature_10 = -6.530\n",
    "feature_12 = -6.320\n",
    "feature_14 = -7.430\n",
    "\n",
    "amount = 1000000\n",
    "\n",
    "EXAMPLE_2[2] = feature_2\n",
    "EXAMPLE_2[4] = feature_4\n",
    "EXAMPLE_2[11] = feature_11\n",
    "EXAMPLE_2[10] = feature_10\n",
    "EXAMPLE_2[12] = feature_12\n",
    "EXAMPLE_2[14] = feature_14\n",
    "EXAMPLE_2[28] = amount\n",
    "\n",
    "prediction = model.predict([EXAMPLE_2])\n",
    "if prediction[0] == 1:\n",
    "    print('=> Fraud Transaction')\n",
    "else:\n",
    "    print('=> Clear Transaction')"
   ]
  },
  {
   "cell_type": "code",
   "execution_count": null,
   "id": "b013bebc-b24f-4ff5-8d3c-977052217cee",
   "metadata": {},
   "outputs": [],
   "source": []
  }
 ],
 "metadata": {
  "kernelspec": {
   "display_name": "Credit_Card_Fraud_Detection-1uUyXd52",
   "language": "python",
   "name": "credit_card_fraud_detection-1uuyxd52"
  },
  "language_info": {
   "codemirror_mode": {
    "name": "ipython",
    "version": 3
   },
   "file_extension": ".py",
   "mimetype": "text/x-python",
   "name": "python",
   "nbconvert_exporter": "python",
   "pygments_lexer": "ipython3",
   "version": "3.7.9"
  }
 },
 "nbformat": 4,
 "nbformat_minor": 5
}
